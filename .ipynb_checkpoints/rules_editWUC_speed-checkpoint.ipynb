{
 "cells": [
  {
   "cell_type": "markdown",
   "metadata": {},
   "source": [
    "## Setup"
   ]
  },
  {
   "cell_type": "markdown",
   "metadata": {},
   "source": [
    "#### Libraries and DB"
   ]
  },
  {
   "cell_type": "code",
   "execution_count": 5,
   "metadata": {},
   "outputs": [],
   "source": [
    "# import libraries and setup a dictionary in studio fashion\n",
    "import numpy as np\n",
    "import pandas as pd\n",
    "import re\n",
    "import MySQLdb\n",
    "\n",
    "libraries = {'numpy': np, 'pandas': pd, 're': re}"
   ]
  },
  {
   "cell_type": "code",
   "execution_count": 6,
   "metadata": {},
   "outputs": [],
   "source": [
    "# set database credentials and create a database\n",
    "dsn_database = \"mdst_c130\"\n",
    "dsn_hostname = \"localhost\"\n",
    "dsn_port = 3306\n",
    "dsn_uid = \"root\"\n",
    "dsn_pwd = \"root\"\n",
    "\n",
    "conn = MySQLdb.connect(host = dsn_hostname, port = dsn_port, user = dsn_uid, passwd = dsn_pwd, db = dsn_database)"
   ]
  },
  {
   "cell_type": "markdown",
   "metadata": {},
   "source": [
    "#### Parameters"
   ]
  },
  {
   "cell_type": "code",
   "execution_count": 7,
   "metadata": {},
   "outputs": [],
   "source": [
    "# establish the level parameter\n",
    "level = 3\n",
    "\n",
    "if level is None or str(level).lower() not in (\"3\",\"4\",\"5\",\"all\"):\n",
    "    raise Exception, \"requires WUC edit `level` parameter: 3, 4, 5, or all\"\n",
    "level = str(level).lower()"
   ]
  },
  {
   "cell_type": "code",
   "execution_count": 8,
   "metadata": {},
   "outputs": [],
   "source": [
    "# field names and lookup\n",
    "field_names = ' WUC | MDS | DISC | CN | DIS | DISCREPANCY | CORRECTIVE NARRATIVE | CORRECTIVE ACTION '\n",
    "field_lookup = {\" MDS \":\"Equipment_Designator\",\" WUC \":\"Work_Unit_Code\",\" DISC \": \"Discrepancy_Narrative\", \n",
    "\" DIS \":\"Discrepancy_Narrative\", \" CN \":\"Corrective_Narrative\", \" DISCREPANCY \": \"Discrepancy_Narrative\",\n",
    "\" CORRECTIVE NARRATIVE \":\"Corrective_Narrative\", \" CORRECTIVE ACTION \": \"Corrective_Narrative\"}"
   ]
  },
  {
   "cell_type": "markdown",
   "metadata": {},
   "source": [
    "#### Import data"
   ]
  },
  {
   "cell_type": "code",
   "execution_count": 9,
   "metadata": {},
   "outputs": [],
   "source": [
    "# work unit code names"
   ]
  },
  {
   "cell_type": "code",
   "execution_count": 10,
   "metadata": {},
   "outputs": [],
   "source": [
    "# import work unit codes data\n",
    "table= 'mdst_c130.work_unit_code_names'\n",
    "\n",
    "query = \"SELECT Work_Unit_Code, WUC_Narrative FROM {}\".format(table)\n",
    "df_wuc_narratives = pd.read_sql(sql=query, con=conn)"
   ]
  },
  {
   "cell_type": "code",
   "execution_count": 13,
   "metadata": {},
   "outputs": [],
   "source": [
    "# import rules data\n",
    "table = 'rules_list'\n",
    "\n",
    "if level == 'all':\n",
    "    query = \"SELECT rule FROM {} WHERE type = 'Edit'\".format(db)\n",
    "else:\n",
    "    query = \"SELECT rule FROM {} WHERE type = 'Edit' AND level = 'Level {}'\".format(table, level)\n",
    "\n",
    "# make a list of rules\n",
    "rules = list(pd.read_sql(sql=query, con=conn).rule)"
   ]
  },
  {
   "cell_type": "markdown",
   "metadata": {},
   "source": [
    "## Speed Testing"
   ]
  },
  {
   "cell_type": "markdown",
   "metadata": {},
   "source": [
    "#### Benchmarking"
   ]
  },
  {
   "cell_type": "code",
   "execution_count": null,
   "metadata": {},
   "outputs": [],
   "source": []
  },
  {
   "cell_type": "markdown",
   "metadata": {},
   "source": [
    "#### Improvements"
   ]
  },
  {
   "cell_type": "code",
   "execution_count": null,
   "metadata": {},
   "outputs": [],
   "source": []
  },
  {
   "cell_type": "markdown",
   "metadata": {},
   "source": [
    "## Results"
   ]
  },
  {
   "cell_type": "code",
   "execution_count": null,
   "metadata": {},
   "outputs": [],
   "source": []
  }
 ],
 "metadata": {
  "kernelspec": {
   "display_name": "Python 2",
   "language": "python",
   "name": "python2"
  },
  "language_info": {
   "codemirror_mode": {
    "name": "ipython",
    "version": 2
   },
   "file_extension": ".py",
   "mimetype": "text/x-python",
   "name": "python",
   "nbconvert_exporter": "python",
   "pygments_lexer": "ipython2",
   "version": "2.7.12"
  }
 },
 "nbformat": 4,
 "nbformat_minor": 2
}
