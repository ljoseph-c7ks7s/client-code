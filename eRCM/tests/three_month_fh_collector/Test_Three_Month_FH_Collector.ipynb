{
 "cells": [
  {
   "cell_type": "code",
   "execution_count": 9,
   "metadata": {},
   "outputs": [],
   "source": [
    "# import libraries in dictionary style\n",
    "import pandas as pd\n",
    "import datetime\n",
    "import numpy as np\n",
    "import os\n",
    "import sys\n",
    "\n",
    "# create libraries dict in studio fashion\n",
    "libraries = {'numpy': np, 'pandas': pd, 'datetime': datetime}\n",
    "\n",
    "script_path = os.path.abspath(os.path.join(\"__file__\",\"../../../scripts\"))\n",
    "sys.path.append(script_path)"
   ]
  },
  {
   "cell_type": "code",
   "execution_count": 10,
   "metadata": {},
   "outputs": [],
   "source": [
    "# import modules for testing\n",
    "from Three_Month_FH_Collector import limit_data_set, calc_monthly_values, calc_windows, calc_rolling_avg"
   ]
  },
  {
   "cell_type": "code",
   "execution_count": 11,
   "metadata": {},
   "outputs": [],
   "source": [
    "def test(lib):\n",
    "    \"\"\"\n",
    "    Args:\n",
    "        lib: dictionary of libraries; access by name\n",
    "        e.g. pd = libraries['pandas'] or stats = libraries['scipy']['stats']\n",
    "\n",
    "    Returns:\n",
    "        whether or not calculated data frame matches the answer\n",
    "    \"\"\"\n",
    "    pd = lib['pandas']\n",
    "\n",
    "    period = 3\n",
    "    date_selection = 'Last_Record'\n",
    "\n",
    "    test_data = pd.read_csv('tmfhc.csv', parse_dates=['Depart_Date'])\n",
    "    answer = pd.read_csv('tmfhcA.csv', parse_dates=['Three_Month_Start_Date'])\n",
    "\n",
    "    # call the relevant functions\n",
    "    ldf, last_date = limit_data_set(test_data, date_selection, libraries)\n",
    "    tot = calc_monthly_values(ldf, libraries)\n",
    "    win = calc_windows(tot, period, libraries)\n",
    "    fin = calc_rolling_avg(win, last_date, period, libraries)\n",
    "\n",
    "    # drop the first two records off each data set to compensate for data cutoff values\n",
    "    fin = fin.iloc[2:]\n",
    "    answer = answer.iloc[2:]\n",
    "\n",
    "    # assert that the data frames are equal\n",
    "    pd.testing.assert_frame_equal(fin, answer)"
   ]
  },
  {
   "cell_type": "code",
   "execution_count": 12,
   "metadata": {},
   "outputs": [
    {
     "name": "stdout",
     "output_type": "stream",
     "text": [
      "Limited Data COMPLETE\n",
      "Monthly Values COMPLETE\n",
      "Windows COMPLETE\n",
      "Rolling Averages COMPLETE\n"
     ]
    }
   ],
   "source": [
    "test(libraries)"
   ]
  },
  {
   "cell_type": "code",
   "execution_count": null,
   "metadata": {},
   "outputs": [],
   "source": []
  }
 ],
 "metadata": {
  "kernelspec": {
   "display_name": "Python 2",
   "language": "python",
   "name": "python2"
  },
  "language_info": {
   "codemirror_mode": {
    "name": "ipython",
    "version": 2
   },
   "file_extension": ".py",
   "mimetype": "text/x-python",
   "name": "python",
   "nbconvert_exporter": "python",
   "pygments_lexer": "ipython2",
   "version": "2.7.12"
  }
 },
 "nbformat": 4,
 "nbformat_minor": 2
}
