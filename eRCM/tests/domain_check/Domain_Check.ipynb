{
 "cells": [
  {
   "cell_type": "code",
   "execution_count": 29,
   "metadata": {},
   "outputs": [],
   "source": [
    "# import libraries in dictionary style\n",
    "import pandas as pd\n",
    "import os\n",
    "import sys\n",
    "\n",
    "# create libraries dict in studio fashion\n",
    "libraries = {'pandas': pd}\n",
    "here = os.path.abspath(\"__file__\")\n",
    "script_path = os.path.abspath(os.path.join(\"__file__\",\"../../../scripts\"))\n",
    "sys.path.append(script_path)"
   ]
  },
  {
   "cell_type": "code",
   "execution_count": 30,
   "metadata": {},
   "outputs": [],
   "source": [
    "# import modules for testing\n",
    "from Domain_Check import domain_check"
   ]
  },
  {
   "cell_type": "code",
   "execution_count": 45,
   "metadata": {},
   "outputs": [],
   "source": [
    "def test(lib):\n",
    "    \"\"\"\n",
    "    Args:\n",
    "        lib: dictionary of libraries; access by name\n",
    "        e.g. pd = libraries['pandas'] or stats = libraries['scipy']['stats']\n",
    "\n",
    "    Returns:\n",
    "        whether or not calculated data frame matches the answer\n",
    "    \"\"\"\n",
    "    pd = lib['pandas']\n",
    "\n",
    "    # import data for testing\n",
    "    tmfh_data = pd.read_csv('tmfh_sample.csv', parse_dates=['Three_Month_Start_Date'])\n",
    "    wei_data = pd.read_csv('wei_sample.csv')\n",
    "    answer = pd.read_csv('dc_answer.csv')\n",
    "\n",
    "    # create datastructures for testing\n",
    "    x_vals = list(answer['x_value'])\n",
    "    fin = pd.DataFrame(columns={'x_value','domain_check'})\n",
    "    \n",
    "    # iterate over potential x values\n",
    "    for i in range(0,len(x_vals)):\n",
    "        \n",
    "        # get x value for testing\n",
    "        X = x_vals[i]\n",
    "        fin.loc[i, 'x_value'] = X\n",
    "        \n",
    "        # test the x value\n",
    "        df = domain_check(tmfh_data, wei_data, X, libraries)\n",
    "        fin.loc[i, 'domain_check'] = df.iloc[0]['domain_check']\n",
    "     \n",
    "    # convert to match answer datatypes\n",
    "    fin['x_value'] = fin['x_value'].astype('int64')\n",
    "    \n",
    "    # assert that the data frames are equal\n",
    "    pd.testing.assert_frame_equal(fin, answer)"
   ]
  },
  {
   "cell_type": "code",
   "execution_count": 46,
   "metadata": {},
   "outputs": [
    {
     "name": "stdout",
     "output_type": "stream",
     "text": [
      "99 percentile of flight hours accrued in 90 days, 146.71848, is less than the minimum time change between 0.01 quantile increments, 23.61. Domain Check passes.\n",
      "95 percentile of flight hours accrued in 90 days, 146.2547, is less than the minimum time change between 0.01 quantile increments, 23.61. Domain Check passes.\n",
      "82 percentile of flight hours accrued in 90 days, 137.45036, is less than the minimum time change between 0.01 quantile increments, 23.61. Domain Check passes.\n",
      "75 percentile of flight hours accrued in 90 days, 133.4285, is less than the minimum time change between 0.01 quantile increments, 23.61. Domain Check passes.\n",
      "50 percentile of flight hours accrued in 90 days, 20.0, is more than the minimum time change between 0.01 quantile increments, 23.61. Domain Check fails.\n",
      "25 percentile of flight hours accrued in 90 days, 15.5, is more than the minimum time change between 0.01 quantile increments, 23.61. Domain Check fails.\n",
      "10 percentile of flight hours accrued in 90 days, 7.6, is more than the minimum time change between 0.01 quantile increments, 23.61. Domain Check fails.\n",
      "5 percentile of flight hours accrued in 90 days, 5.6, is more than the minimum time change between 0.01 quantile increments, 23.61. Domain Check fails.\n",
      "1 percentile of flight hours accrued in 90 days, 1.3, is more than the minimum time change between 0.01 quantile increments, 23.61. Domain Check fails.\n"
     ]
    }
   ],
   "source": [
    "test(libraries)"
   ]
  },
  {
   "cell_type": "code",
   "execution_count": null,
   "metadata": {},
   "outputs": [],
   "source": []
  }
 ],
 "metadata": {
  "kernelspec": {
   "display_name": "Python 2",
   "language": "python",
   "name": "python2"
  },
  "language_info": {
   "codemirror_mode": {
    "name": "ipython",
    "version": 2
   },
   "file_extension": ".py",
   "mimetype": "text/x-python",
   "name": "python",
   "nbconvert_exporter": "python",
   "pygments_lexer": "ipython2",
   "version": "2.7.12"
  }
 },
 "nbformat": 4,
 "nbformat_minor": 2
}
