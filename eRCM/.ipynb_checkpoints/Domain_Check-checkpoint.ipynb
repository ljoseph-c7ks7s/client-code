{
 "cells": [
  {
   "cell_type": "code",
   "execution_count": 2,
   "metadata": {},
   "outputs": [
    {
     "name": "stdout",
     "output_type": "stream",
     "text": [
      "C:\\work\\scripts\n"
     ]
    }
   ],
   "source": [
    "# import libraries in dictionary style\n",
    "import pandas as pd\n",
    "import os\n",
    "import sys\n",
    "\n",
    "# create libraries dict in studio fashion\n",
    "libraries = {'pandas': pd}\n",
    "\n",
    "script_path = os.path.abspath(os.path.join(\"__file__\",\"../../../scripts\"))\n",
    "print(script_path)\n",
    "sys.path.append(script_path)"
   ]
  },
  {
   "cell_type": "code",
   "execution_count": null,
   "metadata": {},
   "outputs": [],
   "source": [
    "# import modules for testing\n",
    "from Domain_Check import domain_check"
   ]
  },
  {
   "cell_type": "code",
   "execution_count": null,
   "metadata": {},
   "outputs": [],
   "source": [
    "def test(lib):\n",
    "    \"\"\"\n",
    "    Args:\n",
    "        lib: dictionary of libraries; access by name\n",
    "        e.g. pd = libraries['pandas'] or stats = libraries['scipy']['stats']\n",
    "\n",
    "    Returns:\n",
    "        whether or not calculated data frame matches the answer\n",
    "    \"\"\"\n",
    "    pd = lib['pandas']\n",
    "\n",
    "    # import data for testing\n",
    "    # tmfh_data = pd.read_csv()\n",
    "    # wei_data = pd.read_csv()\n",
    "    # answer = pd.read_csv()\n",
    "\n",
    "    # create datastructures for testing\n",
    "    x_vals = [99, 95, 82, 75, 50]\n",
    "    fin = pd.DataFrame(columns={'x_value','domain_check'})\n",
    "    \n",
    "    for i in range(0,len(x_vals)):\n",
    "        X = x_vals[i]\n",
    "        \n",
    "        fin.loc(i)['x_value'] = X\n",
    "        fin.loc(i)['domain_check'] = 0\n",
    "        # df = domain_check(tmfh_data, wei_data, X, libraries)\n",
    "    \n",
    "    #print the head of fin\n",
    "    print(fin.head(15))\n",
    "\n",
    "    # assert that the data frames are equal\n",
    "    # pd.testing.assert_frame_equal(fin, answer)"
   ]
  },
  {
   "cell_type": "code",
   "execution_count": null,
   "metadata": {},
   "outputs": [],
   "source": [
    "test(libraries)"
   ]
  }
 ],
 "metadata": {
  "kernelspec": {
   "display_name": "Python 2",
   "language": "python",
   "name": "python2"
  },
  "language_info": {
   "codemirror_mode": {
    "name": "ipython",
    "version": 2
   },
   "file_extension": ".py",
   "mimetype": "text/x-python",
   "name": "python",
   "nbconvert_exporter": "python",
   "pygments_lexer": "ipython2",
   "version": "2.7.12"
  }
 },
 "nbformat": 4,
 "nbformat_minor": 2
}
