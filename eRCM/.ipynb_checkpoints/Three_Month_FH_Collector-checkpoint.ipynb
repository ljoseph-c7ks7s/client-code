{
 "cells": [
  {
   "cell_type": "markdown",
   "metadata": {},
   "source": [
    "## Import Data"
   ]
  },
  {
   "cell_type": "code",
   "execution_count": 32,
   "metadata": {
    "collapsed": true
   },
   "outputs": [],
   "source": [
    "# import necessary packages\n",
    "import numpy as np\n",
    "import pandas as pd\n",
    "import MySQLdb\n",
    "import datetime\n",
    "from dateutil.relativedelta import relativedelta"
   ]
  },
  {
   "cell_type": "code",
   "execution_count": 33,
   "metadata": {
    "collapsed": true
   },
   "outputs": [],
   "source": [
    "# database credentials\n",
    "dsn_database = \"ercm_kc135\"\n",
    "dsn_hostname = \"localhost\"\n",
    "dsn_port = 3306\n",
    "dsn_uid = \"root\"\n",
    "dsn_pwd = \"root\"\n",
    "\n",
    "# create the database connection\n",
    "conn = MySQLdb.connect(host = dsn_hostname, port = dsn_port, user = dsn_uid, passwd = dsn_pwd, db = dsn_database)"
   ]
  },
  {
   "cell_type": "code",
   "execution_count": 37,
   "metadata": {
    "collapsed": true
   },
   "outputs": [],
   "source": [
    "# create an empty dataframe\n",
    "df = []\n",
    "\n",
    "# select last five years of sortie history\n",
    "query = \"SELECT * FROM ercm_kc135.compiled_sortie_history_data\"\n",
    "\n",
    "# create dataframe from sortie history\n",
    "df = pd.read_sql_query(query, conn)"
   ]
  },
  {
   "cell_type": "code",
   "execution_count": 38,
   "metadata": {},
   "outputs": [
    {
     "name": "stdout",
     "output_type": "stream",
     "text": [
      "2014\n"
     ]
    }
   ],
   "source": [
    "period = 3\n",
    "\n",
    "last_date = datetime.datetime.now().year - 5\n",
    "df = df.loc[df['Depart_Date'].dt.year >= last_date]\n",
    "\n",
    "# print(df.dt.year.min())\n",
    "print(df['Depart_Date'].dt.year.min())"
   ]
  },
  {
   "cell_type": "code",
   "execution_count": 41,
   "metadata": {},
   "outputs": [
    {
     "name": "stdout",
     "output_type": "stream",
     "text": [
      "Date five years ago: 2014-01-01 00:00:00\n",
      "Number of records: 172255\n"
     ]
    }
   ],
   "source": [
    "# quick validation on initial dataframe\n",
    "print(\"Date five years ago: \" + str(df['Depart_Date'].min()))\n",
    "print(\"Number of records: \" + str(len(df)))"
   ]
  },
  {
   "cell_type": "code",
   "execution_count": 42,
   "metadata": {
    "collapsed": true
   },
   "outputs": [],
   "source": [
    "for i in range(1, period + 1):\n",
    "    #create column name and set window value (either 2, 1, or 0 when period = 3)\n",
    "    column = 'W' + str(i)\n",
    "    window = period - i\n",
    "\n",
    "    # extract baseline month values\n",
    "    df['Month'] = df['Depart_Date'].dt.month\n",
    "    df['Year'] = df['Depart_Date'].dt.year\n",
    "\n",
    "    # subset with loc to fix problematic time periods with year overlaps\n",
    "    # if window is 2 and month is Jan or Feb, fix date accordingly\n",
    "    if (window == 2):\n",
    "        df.loc[(df.Month == 1) | (df.Month == 2), 'Year'] = df.Year - 1\n",
    "        df.loc[(df.Month == 2), 'Month'] = 14\n",
    "        df.loc[(df.Month == 1), 'Month'] = 13\n",
    "    # if window is 1 and month is Jan, fix date accordingly\n",
    "    elif (window == 1):\n",
    "        df.loc[(df.Month == 1), 'Year'] = df.Year - 1\n",
    "        df.loc[(df.Month == 1), 'Month'] = 13\n",
    "    # else, use original month\n",
    "    else:\n",
    "        df['Month'] = df['Depart_Date'].dt.month\n",
    "\n",
    "    # Decrement them month value based on the window value\n",
    "    df['Month'] = df.Month - window\n",
    "\n",
    "    # clean up date integer values by adding appropriate 0's and converting to strings\n",
    "    df.loc[df.Month < 10, 'Month'] = '0' + df['Month'].astype(str) # add 0's to single digit months\n",
    "    df.loc[df.Month >= 10, 'Month'] = df['Month'].astype(str) # do not add 0's to double digit months\n",
    "    df['Year'] = df['Year'].astype(str) \n",
    "\n",
    "    # create the value for each window as a string\n",
    "    df[column] = df['Year'] + '-' + df['Month'] + '-01'\n",
    "    # convert each window back to original datetime64 format\n",
    "    df[column] = df[column].map(lambda x: np.datetime64(x)) \n",
    "\n",
    "# drop the month and year columns\n",
    "windowed = df.drop(['Month', 'Year'], axis = 1)"
   ]
  },
  {
   "cell_type": "code",
   "execution_count": 43,
   "metadata": {},
   "outputs": [
    {
     "ename": "KeyError",
     "evalue": "'Window_Val'",
     "output_type": "error",
     "traceback": [
      "\u001b[1;31m\u001b[0m",
      "\u001b[1;31mKeyError\u001b[0mTraceback (most recent call last)",
      "\u001b[1;32m<ipython-input-43-ec54b285b02d>\u001b[0m in \u001b[0;36m<module>\u001b[1;34m()\u001b[0m\n\u001b[0;32m     16\u001b[0m \u001b[1;33m\u001b[0m\u001b[0m\n\u001b[0;32m     17\u001b[0m \u001b[1;31m# drop any windows the predate five years ago\u001b[0m\u001b[1;33m\u001b[0m\u001b[1;33m\u001b[0m\u001b[0m\n\u001b[1;32m---> 18\u001b[1;33m \u001b[0mmelted\u001b[0m \u001b[1;33m=\u001b[0m \u001b[0mmelted\u001b[0m\u001b[1;33m.\u001b[0m\u001b[0mloc\u001b[0m\u001b[1;33m[\u001b[0m\u001b[0mdf\u001b[0m\u001b[1;33m[\u001b[0m\u001b[1;34m'Window_Val'\u001b[0m\u001b[1;33m]\u001b[0m\u001b[1;33m.\u001b[0m\u001b[0mdt\u001b[0m\u001b[1;33m.\u001b[0m\u001b[0myear\u001b[0m \u001b[1;33m>=\u001b[0m \u001b[0mlast_date\u001b[0m\u001b[1;33m]\u001b[0m\u001b[1;33m\u001b[0m\u001b[0m\n\u001b[0m\u001b[0;32m     19\u001b[0m \u001b[1;33m\u001b[0m\u001b[0m\n\u001b[0;32m     20\u001b[0m \u001b[1;31m# group by window value and calculate the mean\u001b[0m\u001b[1;33m\u001b[0m\u001b[1;33m\u001b[0m\u001b[0m\n",
      "\u001b[1;32mC:\\tools\\Anaconda3\\envs\\python27studiov1\\lib\\site-packages\\pandas\\core\\frame.pyc\u001b[0m in \u001b[0;36m__getitem__\u001b[1;34m(self, key)\u001b[0m\n\u001b[0;32m   2060\u001b[0m             \u001b[1;32mreturn\u001b[0m \u001b[0mself\u001b[0m\u001b[1;33m.\u001b[0m\u001b[0m_getitem_multilevel\u001b[0m\u001b[1;33m(\u001b[0m\u001b[0mkey\u001b[0m\u001b[1;33m)\u001b[0m\u001b[1;33m\u001b[0m\u001b[0m\n\u001b[0;32m   2061\u001b[0m         \u001b[1;32melse\u001b[0m\u001b[1;33m:\u001b[0m\u001b[1;33m\u001b[0m\u001b[0m\n\u001b[1;32m-> 2062\u001b[1;33m             \u001b[1;32mreturn\u001b[0m \u001b[0mself\u001b[0m\u001b[1;33m.\u001b[0m\u001b[0m_getitem_column\u001b[0m\u001b[1;33m(\u001b[0m\u001b[0mkey\u001b[0m\u001b[1;33m)\u001b[0m\u001b[1;33m\u001b[0m\u001b[0m\n\u001b[0m\u001b[0;32m   2063\u001b[0m \u001b[1;33m\u001b[0m\u001b[0m\n\u001b[0;32m   2064\u001b[0m     \u001b[1;32mdef\u001b[0m \u001b[0m_getitem_column\u001b[0m\u001b[1;33m(\u001b[0m\u001b[0mself\u001b[0m\u001b[1;33m,\u001b[0m \u001b[0mkey\u001b[0m\u001b[1;33m)\u001b[0m\u001b[1;33m:\u001b[0m\u001b[1;33m\u001b[0m\u001b[0m\n",
      "\u001b[1;32mC:\\tools\\Anaconda3\\envs\\python27studiov1\\lib\\site-packages\\pandas\\core\\frame.pyc\u001b[0m in \u001b[0;36m_getitem_column\u001b[1;34m(self, key)\u001b[0m\n\u001b[0;32m   2067\u001b[0m         \u001b[1;31m# get column\u001b[0m\u001b[1;33m\u001b[0m\u001b[1;33m\u001b[0m\u001b[0m\n\u001b[0;32m   2068\u001b[0m         \u001b[1;32mif\u001b[0m \u001b[0mself\u001b[0m\u001b[1;33m.\u001b[0m\u001b[0mcolumns\u001b[0m\u001b[1;33m.\u001b[0m\u001b[0mis_unique\u001b[0m\u001b[1;33m:\u001b[0m\u001b[1;33m\u001b[0m\u001b[0m\n\u001b[1;32m-> 2069\u001b[1;33m             \u001b[1;32mreturn\u001b[0m \u001b[0mself\u001b[0m\u001b[1;33m.\u001b[0m\u001b[0m_get_item_cache\u001b[0m\u001b[1;33m(\u001b[0m\u001b[0mkey\u001b[0m\u001b[1;33m)\u001b[0m\u001b[1;33m\u001b[0m\u001b[0m\n\u001b[0m\u001b[0;32m   2070\u001b[0m \u001b[1;33m\u001b[0m\u001b[0m\n\u001b[0;32m   2071\u001b[0m         \u001b[1;31m# duplicate columns & possible reduce dimensionality\u001b[0m\u001b[1;33m\u001b[0m\u001b[1;33m\u001b[0m\u001b[0m\n",
      "\u001b[1;32mC:\\tools\\Anaconda3\\envs\\python27studiov1\\lib\\site-packages\\pandas\\core\\generic.pyc\u001b[0m in \u001b[0;36m_get_item_cache\u001b[1;34m(self, item)\u001b[0m\n\u001b[0;32m   1532\u001b[0m         \u001b[0mres\u001b[0m \u001b[1;33m=\u001b[0m \u001b[0mcache\u001b[0m\u001b[1;33m.\u001b[0m\u001b[0mget\u001b[0m\u001b[1;33m(\u001b[0m\u001b[0mitem\u001b[0m\u001b[1;33m)\u001b[0m\u001b[1;33m\u001b[0m\u001b[0m\n\u001b[0;32m   1533\u001b[0m         \u001b[1;32mif\u001b[0m \u001b[0mres\u001b[0m \u001b[1;32mis\u001b[0m \u001b[0mNone\u001b[0m\u001b[1;33m:\u001b[0m\u001b[1;33m\u001b[0m\u001b[0m\n\u001b[1;32m-> 1534\u001b[1;33m             \u001b[0mvalues\u001b[0m \u001b[1;33m=\u001b[0m \u001b[0mself\u001b[0m\u001b[1;33m.\u001b[0m\u001b[0m_data\u001b[0m\u001b[1;33m.\u001b[0m\u001b[0mget\u001b[0m\u001b[1;33m(\u001b[0m\u001b[0mitem\u001b[0m\u001b[1;33m)\u001b[0m\u001b[1;33m\u001b[0m\u001b[0m\n\u001b[0m\u001b[0;32m   1535\u001b[0m             \u001b[0mres\u001b[0m \u001b[1;33m=\u001b[0m \u001b[0mself\u001b[0m\u001b[1;33m.\u001b[0m\u001b[0m_box_item_values\u001b[0m\u001b[1;33m(\u001b[0m\u001b[0mitem\u001b[0m\u001b[1;33m,\u001b[0m \u001b[0mvalues\u001b[0m\u001b[1;33m)\u001b[0m\u001b[1;33m\u001b[0m\u001b[0m\n\u001b[0;32m   1536\u001b[0m             \u001b[0mcache\u001b[0m\u001b[1;33m[\u001b[0m\u001b[0mitem\u001b[0m\u001b[1;33m]\u001b[0m \u001b[1;33m=\u001b[0m \u001b[0mres\u001b[0m\u001b[1;33m\u001b[0m\u001b[0m\n",
      "\u001b[1;32mC:\\tools\\Anaconda3\\envs\\python27studiov1\\lib\\site-packages\\pandas\\core\\internals.pyc\u001b[0m in \u001b[0;36mget\u001b[1;34m(self, item, fastpath)\u001b[0m\n\u001b[0;32m   3588\u001b[0m \u001b[1;33m\u001b[0m\u001b[0m\n\u001b[0;32m   3589\u001b[0m             \u001b[1;32mif\u001b[0m \u001b[1;32mnot\u001b[0m \u001b[0misnull\u001b[0m\u001b[1;33m(\u001b[0m\u001b[0mitem\u001b[0m\u001b[1;33m)\u001b[0m\u001b[1;33m:\u001b[0m\u001b[1;33m\u001b[0m\u001b[0m\n\u001b[1;32m-> 3590\u001b[1;33m                 \u001b[0mloc\u001b[0m \u001b[1;33m=\u001b[0m \u001b[0mself\u001b[0m\u001b[1;33m.\u001b[0m\u001b[0mitems\u001b[0m\u001b[1;33m.\u001b[0m\u001b[0mget_loc\u001b[0m\u001b[1;33m(\u001b[0m\u001b[0mitem\u001b[0m\u001b[1;33m)\u001b[0m\u001b[1;33m\u001b[0m\u001b[0m\n\u001b[0m\u001b[0;32m   3591\u001b[0m             \u001b[1;32melse\u001b[0m\u001b[1;33m:\u001b[0m\u001b[1;33m\u001b[0m\u001b[0m\n\u001b[0;32m   3592\u001b[0m                 \u001b[0mindexer\u001b[0m \u001b[1;33m=\u001b[0m \u001b[0mnp\u001b[0m\u001b[1;33m.\u001b[0m\u001b[0marange\u001b[0m\u001b[1;33m(\u001b[0m\u001b[0mlen\u001b[0m\u001b[1;33m(\u001b[0m\u001b[0mself\u001b[0m\u001b[1;33m.\u001b[0m\u001b[0mitems\u001b[0m\u001b[1;33m)\u001b[0m\u001b[1;33m)\u001b[0m\u001b[1;33m[\u001b[0m\u001b[0misnull\u001b[0m\u001b[1;33m(\u001b[0m\u001b[0mself\u001b[0m\u001b[1;33m.\u001b[0m\u001b[0mitems\u001b[0m\u001b[1;33m)\u001b[0m\u001b[1;33m]\u001b[0m\u001b[1;33m\u001b[0m\u001b[0m\n",
      "\u001b[1;32mC:\\tools\\Anaconda3\\envs\\python27studiov1\\lib\\site-packages\\pandas\\core\\indexes\\base.pyc\u001b[0m in \u001b[0;36mget_loc\u001b[1;34m(self, key, method, tolerance)\u001b[0m\n\u001b[0;32m   2393\u001b[0m                 \u001b[1;32mreturn\u001b[0m \u001b[0mself\u001b[0m\u001b[1;33m.\u001b[0m\u001b[0m_engine\u001b[0m\u001b[1;33m.\u001b[0m\u001b[0mget_loc\u001b[0m\u001b[1;33m(\u001b[0m\u001b[0mkey\u001b[0m\u001b[1;33m)\u001b[0m\u001b[1;33m\u001b[0m\u001b[0m\n\u001b[0;32m   2394\u001b[0m             \u001b[1;32mexcept\u001b[0m \u001b[0mKeyError\u001b[0m\u001b[1;33m:\u001b[0m\u001b[1;33m\u001b[0m\u001b[0m\n\u001b[1;32m-> 2395\u001b[1;33m                 \u001b[1;32mreturn\u001b[0m \u001b[0mself\u001b[0m\u001b[1;33m.\u001b[0m\u001b[0m_engine\u001b[0m\u001b[1;33m.\u001b[0m\u001b[0mget_loc\u001b[0m\u001b[1;33m(\u001b[0m\u001b[0mself\u001b[0m\u001b[1;33m.\u001b[0m\u001b[0m_maybe_cast_indexer\u001b[0m\u001b[1;33m(\u001b[0m\u001b[0mkey\u001b[0m\u001b[1;33m)\u001b[0m\u001b[1;33m)\u001b[0m\u001b[1;33m\u001b[0m\u001b[0m\n\u001b[0m\u001b[0;32m   2396\u001b[0m \u001b[1;33m\u001b[0m\u001b[0m\n\u001b[0;32m   2397\u001b[0m         \u001b[0mindexer\u001b[0m \u001b[1;33m=\u001b[0m \u001b[0mself\u001b[0m\u001b[1;33m.\u001b[0m\u001b[0mget_indexer\u001b[0m\u001b[1;33m(\u001b[0m\u001b[1;33m[\u001b[0m\u001b[0mkey\u001b[0m\u001b[1;33m]\u001b[0m\u001b[1;33m,\u001b[0m \u001b[0mmethod\u001b[0m\u001b[1;33m=\u001b[0m\u001b[0mmethod\u001b[0m\u001b[1;33m,\u001b[0m \u001b[0mtolerance\u001b[0m\u001b[1;33m=\u001b[0m\u001b[0mtolerance\u001b[0m\u001b[1;33m)\u001b[0m\u001b[1;33m\u001b[0m\u001b[0m\n",
      "\u001b[1;32mpandas\\_libs\\index.pyx\u001b[0m in \u001b[0;36mpandas._libs.index.IndexEngine.get_loc (pandas\\_libs\\index.c:5239)\u001b[1;34m()\u001b[0m\n",
      "\u001b[1;32mpandas\\_libs\\index.pyx\u001b[0m in \u001b[0;36mpandas._libs.index.IndexEngine.get_loc (pandas\\_libs\\index.c:5085)\u001b[1;34m()\u001b[0m\n",
      "\u001b[1;32mpandas\\_libs\\hashtable_class_helper.pxi\u001b[0m in \u001b[0;36mpandas._libs.hashtable.PyObjectHashTable.get_item (pandas\\_libs\\hashtable.c:20405)\u001b[1;34m()\u001b[0m\n",
      "\u001b[1;32mpandas\\_libs\\hashtable_class_helper.pxi\u001b[0m in \u001b[0;36mpandas._libs.hashtable.PyObjectHashTable.get_item (pandas\\_libs\\hashtable.c:20359)\u001b[1;34m()\u001b[0m\n",
      "\u001b[1;31mKeyError\u001b[0m: 'Window_Val'"
     ]
    }
   ],
   "source": [
    "df = windowed\n",
    "\n",
    "# create a list of column values thus far\n",
    "columns = list(df.columns.values)\n",
    "\n",
    "# calculate the point at which the melted dataframe with pivot\n",
    "melt_axis = len(columns) - period\n",
    "\n",
    "# create a melted dataframe to used for group by calculation\n",
    "melted = pd.melt(df, \n",
    "                        id_vars= columns[0:melt_axis],\n",
    "                        value_vars = columns[melt_axis:8],\n",
    "                        var_name = 'Window',\n",
    "                        value_name = 'Window_Val'\n",
    "                  )\n",
    "\n",
    "# drop any windows the predate five years ago\n",
    "melted = melted.loc[df['Window_Val'].dt.year >= last_date]\n",
    "\n",
    "# group by window value and calculate the mean\n",
    "grouped = melted.groupby(['Window_Val'], as_index=False).mean()\n",
    "# rename columns\n",
    "grouped.rename(columns = {'Window_Val': 'Three_Month_Start_Date', 'Flying_Hours': 'Average_Flying_Hours'}, inplace = True)\n",
    "\n",
    "# return results\n",
    "return grouped"
   ]
  },
  {
   "cell_type": "markdown",
   "metadata": {},
   "source": [
    "## Production Code"
   ]
  },
  {
   "cell_type": "code",
   "execution_count": 149,
   "metadata": {
    "collapsed": true
   },
   "outputs": [],
   "source": [
    "def CalcWindows(df, period):  \n",
    "    \"\"\" Calculates window value columns to determine what periods a flight record could be grouped into.\n",
    "    Example: '2016-01-04' would return window values '2015-11-01', '2015-12-01', '2016-01-01'.\n",
    "    Args:\n",
    "        df: dateframe from previous function\n",
    "        period: currently only works where period = 3. Long-term, will try and make dynamic based on this value\n",
    "    Returns:\n",
    "       windowed: dataframe with window values where record is active\n",
    "    \"\"\"\n",
    "    # create useful window columns by iterating for 1 through number of periods specified\n",
    "    for i in range(1, period + 1):\n",
    "        #create column name and set window value (either 2, 1, or 0 when period = 3)\n",
    "        column = 'W' + str(i)\n",
    "        window = period - i\n",
    "\n",
    "        # extract baseline month values\n",
    "        df['Month'] = df['Depart_Date'].dt.month\n",
    "        df['Year'] = df['Depart_Date'].dt.year\n",
    "\n",
    "        # subset with loc to fix problematic time periods with year overlaps\n",
    "        # if window is 2 and month is Jan or Feb, fix date accordingly\n",
    "        if (window == 2):\n",
    "            df.loc[(df.Month == 1) | (df.Month == 2), 'Year'] = df.Year - 1\n",
    "            df.loc[(df.Month == 2), 'Month'] = 14\n",
    "            df.loc[(df.Month == 1), 'Month'] = 13\n",
    "        # if window is 1 and month is Jan, fix date accordingly\n",
    "        elif (window == 1):\n",
    "            df.loc[(df.Month == 1), 'Year'] = df.Year - 1\n",
    "            df.loc[(df.Month == 1), 'Month'] = 13\n",
    "        # else, use original month\n",
    "        else:\n",
    "            df['Month'] = df['Depart_Date'].dt.month\n",
    "\n",
    "        # Decrement them month value based on the window value\n",
    "        df['Month'] = df.Month - window\n",
    "\n",
    "        # clean up date integer values by adding appropriate 0's and converting to strings\n",
    "        df.loc[df.Month < 10, 'Month'] = '0' + df['Month'].astype(str) # add 0's to single digit months\n",
    "        df.loc[df.Month >= 10, 'Month'] = df['Month'].astype(str) # do not add 0's to double digit months\n",
    "        df['Year'] = df['Year'].astype(str) \n",
    "\n",
    "        # create the value for each window as a string\n",
    "        df[column] = df['Year'] + '-' + df['Month'] + '-01'\n",
    "        # convert each window back to original datetime64 format\n",
    "        df[column] = df[column].map(lambda x: np.datetime64(x)) \n",
    "\n",
    "    # drop the month and year columns\n",
    "    windowed = df.drop(['Month', 'Year'], axis = 1)\n",
    "    \n",
    "    # return results\n",
    "    return windowed\n",
    "\n",
    " \n",
    "def CalcRollingAvg(df, period):\n",
    "    \"\"\" Calculates the rolling average by melting the window columns and grouping the result.\n",
    "    Args:\n",
    "        df: dateframe from previous function\n",
    "        period: currently only works where period = 3. Long-term, will try and make dynamic based on this value\n",
    "    Returns:\n",
    "       grouped: dataframe with the moving average of flying_hours\n",
    "    \"\"\"\n",
    "    # create a list of column values thus far\n",
    "    columns = list(df.columns.values)\n",
    "\n",
    "    # calculate the point at which the melted dataframe with pivot\n",
    "    melt_axis = len(columns) - period\n",
    "\n",
    "    # create a melted dataframe to used for group by calculation\n",
    "    melted = pd.melt(df, \n",
    "                            id_vars= columns[0:melt_axis],\n",
    "                            value_vars = columns[melt_axis:8],\n",
    "                            var_name = 'Window',\n",
    "                            value_name = 'Window_Val'\n",
    "                      )\n",
    "\n",
    "    # group by window value and calculate the mean\n",
    "    grouped = melted.groupby(['Window_Val'], as_index=False).mean()\n",
    "    # rename columns\n",
    "    grouped.rename(columns = {'Window_Val': 'Three_Month_Start_Date', 'Flying_Hours': 'Average_Flying_Hours'}, inplace = True)\n",
    "    \n",
    "    # return results\n",
    "    return grouped"
   ]
  },
  {
   "cell_type": "code",
   "execution_count": 150,
   "metadata": {
    "collapsed": true
   },
   "outputs": [],
   "source": [
    "def head(df, period = 3):\n",
    "    \"\"\" Calls the CalcWindows and CalcRollingAvg functions\n",
    "    Args:\n",
    "        df: dateframe from previous function\n",
    "        period: currently only works where period = 3. Long-term, will try and make dynamic based on this value\n",
    "    Returns:\n",
    "       final: final dataframe\n",
    "    \"\"\"    \n",
    "    windows = CalcWindows(df, period)\n",
    "    final = CalcRollingAvg(windows, period)\n",
    "    \n",
    "    return final"
   ]
  },
  {
   "cell_type": "code",
   "execution_count": 151,
   "metadata": {
    "collapsed": true
   },
   "outputs": [],
   "source": [
    "# create the final dataframe\n",
    "final = head(df, period = 3)"
   ]
  }
 ],
 "metadata": {
  "kernelspec": {
   "display_name": "Python 2",
   "language": "python",
   "name": "python2"
  },
  "language_info": {
   "codemirror_mode": {
    "name": "ipython",
    "version": 2
   },
   "file_extension": ".py",
   "mimetype": "text/x-python",
   "name": "python",
   "nbconvert_exporter": "python",
   "pygments_lexer": "ipython2",
   "version": "2.7.12"
  }
 },
 "nbformat": 4,
 "nbformat_minor": 2
}
