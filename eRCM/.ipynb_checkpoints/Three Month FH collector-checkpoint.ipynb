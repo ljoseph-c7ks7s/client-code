{
 "cells": [
  {
   "cell_type": "markdown",
   "metadata": {},
   "source": [
    "## Import Data"
   ]
  },
  {
   "cell_type": "code",
   "execution_count": 120,
   "metadata": {
    "collapsed": true
   },
   "outputs": [],
   "source": [
    "# import necessary packages\n",
    "import numpy as np\n",
    "import pandas as pd\n",
    "import MySQLdb\n",
    "import datetime\n",
    "from dateutil.relativedelta import relativedelta"
   ]
  },
  {
   "cell_type": "code",
   "execution_count": 121,
   "metadata": {
    "collapsed": true
   },
   "outputs": [],
   "source": [
    "# database credentials\n",
    "dsn_database = \"ercm_kc135\"\n",
    "dsn_hostname = \"localhost\"\n",
    "dsn_port = 3306\n",
    "dsn_uid = \"root\"\n",
    "dsn_pwd = \"root\"\n",
    "\n",
    "# create the database connection\n",
    "conn = MySQLdb.connect(host = dsn_hostname, port = dsn_port, user = dsn_uid, passwd = dsn_pwd, db = dsn_database)"
   ]
  },
  {
   "cell_type": "code",
   "execution_count": 122,
   "metadata": {
    "collapsed": true
   },
   "outputs": [],
   "source": [
    "# create an empty dataframe\n",
    "df = []\n",
    "\n",
    "# generate a date exactly five years ago (note: this will likely change to a parameterized version)\n",
    "last_date = datetime.datetime.now() - relativedelta(years=5)\n",
    "last_date = last_date.strftime('%Y%m%d') \n",
    "\n",
    "# select last five years of sortie history\n",
    "query = \"SELECT Serial_Number, Mission_Number, Depart_Date, Land_Date, Flying_Hours FROM ercm_kc135.compiled_sortie_history_data WHERE Depart_Date >=\" + str(last_date) \n",
    "\n",
    "# create dataframe from sortie history\n",
    "df = pd.read_sql_query(query, conn, parse_dates = ['Depart_Date', 'Land_Date'])"
   ]
  },
  {
   "cell_type": "code",
   "execution_count": 123,
   "metadata": {},
   "outputs": [
    {
     "name": "stdout",
     "output_type": "stream",
     "text": [
      "Date five years ago: 20140410\n",
      "Number of records: 161828\n"
     ]
    }
   ],
   "source": [
    "# quick validation on initial dataframe\n",
    "print(\"Date five years ago: \" + str(last_date))\n",
    "print(\"Number of records: \" + str(len(df)))"
   ]
  },
  {
   "cell_type": "markdown",
   "metadata": {},
   "source": [
    "## Production Code"
   ]
  },
  {
   "cell_type": "code",
   "execution_count": 149,
   "metadata": {},
   "outputs": [],
   "source": [
    "def CalcWindows(df, period):  \n",
    "    \"\"\" Calculates window value columns to determine what periods a flight record could be grouped into.\n",
    "    Example: '2016-01-04' would return window values '2015-11-01', '2015-12-01', '2016-01-01'.\n",
    "    Args:\n",
    "        df: dateframe from previous function\n",
    "        period: currently only works where period = 3. Long-term, will try and make dynamic based on this value\n",
    "    Returns:\n",
    "       windowed: dataframe with window values where record is active\n",
    "    \"\"\"\n",
    "    # create useful window columns by iterating for 1 through number of periods specified\n",
    "    for i in range(1, period + 1):\n",
    "        #create column name and set window value (either 2, 1, or 0 when period = 3)\n",
    "        column = 'W' + str(i)\n",
    "        window = period - i\n",
    "\n",
    "        # extract baseline month values\n",
    "        df['Month'] = df['Depart_Date'].dt.month\n",
    "        df['Year'] = df['Depart_Date'].dt.year\n",
    "\n",
    "        # subset with loc to fix problematic time periods with year overlaps\n",
    "        # if window is 2 and month is Jan or Feb, fix date accordingly\n",
    "        if (window == 2):\n",
    "            df.loc[(df.Month == 1) | (df.Month == 2), 'Year'] = df.Year - 1\n",
    "            df.loc[(df.Month == 2), 'Month'] = 14\n",
    "            df.loc[(df.Month == 1), 'Month'] = 13\n",
    "        # if window is 1 and month is Jan, fix date accordingly\n",
    "        elif (window == 1):\n",
    "            df.loc[(df.Month == 1), 'Year'] = df.Year - 1\n",
    "            df.loc[(df.Month == 1), 'Month'] = 13\n",
    "        # else, use original month\n",
    "        else:\n",
    "            df['Month'] = df['Depart_Date'].dt.month\n",
    "\n",
    "        # Decrement them month value based on the window value\n",
    "        df['Month'] = df.Month - window\n",
    "\n",
    "        # clean up date integer values by adding appropriate 0's and converting to strings\n",
    "        df.loc[df.Month < 10, 'Month'] = '0' + df['Month'].astype(str) # add 0's to single digit months\n",
    "        df.loc[df.Month >= 10, 'Month'] = df['Month'].astype(str) # do not add 0's to double digit months\n",
    "        df['Year'] = df['Year'].astype(str) \n",
    "\n",
    "        # create the value for each window as a string\n",
    "        df[column] = df['Year'] + '-' + df['Month'] + '-01'\n",
    "        # convert each window back to original datetime64 format\n",
    "        df[column] = df[column].map(lambda x: np.datetime64(x)) \n",
    "\n",
    "    # drop the month and year columns\n",
    "    windowed = df.drop(['Month', 'Year'], axis = 1)\n",
    "    \n",
    "    # return results\n",
    "    return windowed\n",
    "\n",
    " \n",
    "def CalcRollingAvg(df, period):\n",
    "    \"\"\" Calculates the rolling average by melting the window columns and grouping the result.\n",
    "    Args:\n",
    "        df: dateframe from previous function\n",
    "        period: currently only works where period = 3. Long-term, will try and make dynamic based on this value\n",
    "    Returns:\n",
    "       grouped: dataframe with the moving average of flying_hours\n",
    "    \"\"\"\n",
    "    # create a list of column values thus far\n",
    "    columns = list(df.columns.values)\n",
    "\n",
    "    # calculate the point at which the melted dataframe with pivot\n",
    "    melt_axis = len(columns) - period\n",
    "\n",
    "    # create a melted dataframe to used for group by calculation\n",
    "    melted = pd.melt(df, \n",
    "                            id_vars= columns[0:melt_axis],\n",
    "                            value_vars = columns[melt_axis:8],\n",
    "                            var_name = 'Window',\n",
    "                            value_name = 'Window_Val'\n",
    "                      )\n",
    "\n",
    "    # group by window value and calculate the mean\n",
    "    grouped = melted.groupby(['Window_Val'], as_index=False).mean()\n",
    "    # rename columns\n",
    "    grouped.rename(columns = {'Window_Val': 'Three_Month_Start_Date', 'Flying_Hours': 'Average_Flying_Hours'}, inplace = True)\n",
    "    \n",
    "    # return results\n",
    "    return grouped"
   ]
  },
  {
   "cell_type": "code",
   "execution_count": 150,
   "metadata": {},
   "outputs": [],
   "source": [
    "def head(df, period = 3):\n",
    "    \"\"\" Calls the CalcWindows and CalcRollingAvg functions\n",
    "    Args:\n",
    "        df: dateframe from previous function\n",
    "        period: currently only works where period = 3. Long-term, will try and make dynamic based on this value\n",
    "    Returns:\n",
    "       final: final dataframe\n",
    "    \"\"\"    \n",
    "    windows = CalcWindows(df, period)\n",
    "    final = CalcRollingAvg(windows, period)\n",
    "    \n",
    "    return final"
   ]
  },
  {
   "cell_type": "code",
   "execution_count": 151,
   "metadata": {},
   "outputs": [],
   "source": [
    "# create the final dataframe\n",
    "final = head(df, period = 3)"
   ]
  }
 ],
 "metadata": {
  "kernelspec": {
   "display_name": "Python 2",
   "language": "python",
   "name": "python2"
  },
  "language_info": {
   "codemirror_mode": {
    "name": "ipython",
    "version": 2
   },
   "file_extension": ".py",
   "mimetype": "text/x-python",
   "name": "python",
   "nbconvert_exporter": "python",
   "pygments_lexer": "ipython2",
   "version": "2.7.12"
  }
 },
 "nbformat": 4,
 "nbformat_minor": 2
}
