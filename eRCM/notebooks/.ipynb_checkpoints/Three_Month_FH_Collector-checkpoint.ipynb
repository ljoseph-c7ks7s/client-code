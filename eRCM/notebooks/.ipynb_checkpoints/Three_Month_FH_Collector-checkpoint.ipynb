{
 "cells": [
  {
   "cell_type": "markdown",
   "metadata": {},
   "source": [
    "## Import Data"
   ]
  },
  {
   "cell_type": "code",
   "execution_count": 138,
   "metadata": {
    "collapsed": true
   },
   "outputs": [],
   "source": [
    "# import necessary packages\n",
    "import numpy as np\n",
    "import pandas as pd\n",
    "import MySQLdb\n",
    "import datetime\n",
    "from dateutil.relativedelta import relativedelta"
   ]
  },
  {
   "cell_type": "code",
   "execution_count": 139,
   "metadata": {
    "collapsed": true
   },
   "outputs": [],
   "source": [
    "# database credentials\n",
    "dsn_database = \"ercm_kc135\"\n",
    "dsn_hostname = \"localhost\"\n",
    "dsn_port = 3306\n",
    "dsn_uid = \"root\"\n",
    "dsn_pwd = \"root\"\n",
    "\n",
    "# create the database connection\n",
    "conn = MySQLdb.connect(host = dsn_hostname, port = dsn_port, user = dsn_uid, passwd = dsn_pwd, db = dsn_database)"
   ]
  },
  {
   "cell_type": "code",
   "execution_count": 140,
   "metadata": {
    "collapsed": true
   },
   "outputs": [],
   "source": [
    "# create an empty dataframe\n",
    "df = []\n",
    "\n",
    "# select last five years of sortie history\n",
    "query = \"SELECT * FROM ercm_kc135.compiled_sortie_history_data\"\n",
    "\n",
    "# create dataframe from sortie history\n",
    "df = pd.read_sql_query(query, conn)"
   ]
  },
  {
   "cell_type": "code",
   "execution_count": 148,
   "metadata": {},
   "outputs": [
    {
     "name": "stdout",
     "output_type": "stream",
     "text": [
      "2014\n"
     ]
    }
   ],
   "source": [
    "period = 3\n",
    "\n",
    "# df.set_index(['Serial_Number', 'Depart_Date', 'Flying_Hours'], inplace = True)\n",
    "df = df[['Serial_Number', 'Depart_Date', 'Flying_Hours']]\n",
    "\n",
    "# last_date = datetime.datetime.now().year - 5\n",
    "last_Date = df['Depart_Date'].dt.year.max() \n",
    "df = df[df['Depart_Date'].dt.year >= last_date]\n",
    "\n",
    "# print(df.dt.year.min())\n",
    "print(df['Depart_Date'].dt.year.min())"
   ]
  },
  {
   "cell_type": "code",
   "execution_count": 144,
   "metadata": {},
   "outputs": [
    {
     "data": {
      "text/html": [
       "<div>\n",
       "<style>\n",
       "    .dataframe thead tr:only-child th {\n",
       "        text-align: right;\n",
       "    }\n",
       "\n",
       "    .dataframe thead th {\n",
       "        text-align: left;\n",
       "    }\n",
       "\n",
       "    .dataframe tbody tr th {\n",
       "        vertical-align: top;\n",
       "    }\n",
       "</style>\n",
       "<table border=\"1\" class=\"dataframe\">\n",
       "  <thead>\n",
       "    <tr style=\"text-align: right;\">\n",
       "      <th></th>\n",
       "      <th>Serial_Number</th>\n",
       "      <th>Depart_Date</th>\n",
       "      <th>Flying_Hours</th>\n",
       "    </tr>\n",
       "  </thead>\n",
       "  <tbody>\n",
       "    <tr>\n",
       "      <th>1164</th>\n",
       "      <td>5700001419</td>\n",
       "      <td>2014-04-01</td>\n",
       "      <td>0.8</td>\n",
       "    </tr>\n",
       "    <tr>\n",
       "      <th>1165</th>\n",
       "      <td>5700001419</td>\n",
       "      <td>2014-04-24</td>\n",
       "      <td>3.3</td>\n",
       "    </tr>\n",
       "    <tr>\n",
       "      <th>1166</th>\n",
       "      <td>5700001419</td>\n",
       "      <td>2014-05-08</td>\n",
       "      <td>2.1</td>\n",
       "    </tr>\n",
       "    <tr>\n",
       "      <th>1167</th>\n",
       "      <td>5700001419</td>\n",
       "      <td>2014-05-09</td>\n",
       "      <td>1.2</td>\n",
       "    </tr>\n",
       "    <tr>\n",
       "      <th>1168</th>\n",
       "      <td>5700001419</td>\n",
       "      <td>2014-05-30</td>\n",
       "      <td>0.9</td>\n",
       "    </tr>\n",
       "  </tbody>\n",
       "</table>\n",
       "</div>"
      ],
      "text/plain": [
       "     Serial_Number Depart_Date  Flying_Hours\n",
       "1164    5700001419  2014-04-01           0.8\n",
       "1165    5700001419  2014-04-24           3.3\n",
       "1166    5700001419  2014-05-08           2.1\n",
       "1167    5700001419  2014-05-09           1.2\n",
       "1168    5700001419  2014-05-30           0.9"
      ]
     },
     "execution_count": 144,
     "metadata": {},
     "output_type": "execute_result"
    }
   ],
   "source": [
    "df.head()"
   ]
  },
  {
   "cell_type": "code",
   "execution_count": 101,
   "metadata": {},
   "outputs": [
    {
     "name": "stdout",
     "output_type": "stream",
     "text": [
      "Date five years ago: 2014-01-01 00:00:00\n",
      "Number of records: 172255\n"
     ]
    }
   ],
   "source": [
    "# quick validation on initial dataframe\n",
    "print(\"Date five years ago: \" + str(df['Depart_Date'].min()))\n",
    "print(\"Number of records: \" + str(len(df)))"
   ]
  },
  {
   "cell_type": "code",
   "execution_count": 145,
   "metadata": {},
   "outputs": [
    {
     "ename": "TypeError",
     "evalue": "'Series' objects are mutable, thus they cannot be hashed",
     "output_type": "error",
     "traceback": [
      "\u001b[1;31m\u001b[0m",
      "\u001b[1;31mTypeError\u001b[0mTraceback (most recent call last)",
      "\u001b[1;32m<ipython-input-145-03f5f69a95b4>\u001b[0m in \u001b[0;36m<module>\u001b[1;34m()\u001b[0m\n\u001b[0;32m     11\u001b[0m     \u001b[1;31m# if window is 2 and month is Jan or Feb, fix date accordingly\u001b[0m\u001b[1;33m\u001b[0m\u001b[1;33m\u001b[0m\u001b[0m\n\u001b[0;32m     12\u001b[0m     \u001b[1;32mif\u001b[0m \u001b[1;33m(\u001b[0m\u001b[0mwindow\u001b[0m \u001b[1;33m==\u001b[0m \u001b[1;36m2\u001b[0m\u001b[1;33m)\u001b[0m\u001b[1;33m:\u001b[0m\u001b[1;33m\u001b[0m\u001b[0m\n\u001b[1;32m---> 13\u001b[1;33m         \u001b[0mdf\u001b[0m\u001b[1;33m[\u001b[0m\u001b[1;33m(\u001b[0m\u001b[0mdf\u001b[0m\u001b[1;33m.\u001b[0m\u001b[0mMonth\u001b[0m \u001b[1;33m==\u001b[0m \u001b[1;36m1\u001b[0m\u001b[1;33m)\u001b[0m \u001b[1;33m|\u001b[0m \u001b[1;33m(\u001b[0m\u001b[0mdf\u001b[0m\u001b[1;33m.\u001b[0m\u001b[0mMonth\u001b[0m \u001b[1;33m==\u001b[0m \u001b[1;36m2\u001b[0m\u001b[1;33m)\u001b[0m\u001b[1;33m,\u001b[0m \u001b[1;34m'Year'\u001b[0m\u001b[1;33m]\u001b[0m \u001b[1;33m=\u001b[0m \u001b[0mdf\u001b[0m\u001b[1;33m.\u001b[0m\u001b[0mYear\u001b[0m \u001b[1;33m-\u001b[0m \u001b[1;36m1\u001b[0m\u001b[1;33m\u001b[0m\u001b[0m\n\u001b[0m\u001b[0;32m     14\u001b[0m         \u001b[0mdf\u001b[0m\u001b[1;33m[\u001b[0m\u001b[1;33m(\u001b[0m\u001b[0mdf\u001b[0m\u001b[1;33m.\u001b[0m\u001b[0mMonth\u001b[0m \u001b[1;33m==\u001b[0m \u001b[1;36m2\u001b[0m\u001b[1;33m)\u001b[0m\u001b[1;33m,\u001b[0m \u001b[1;34m'Month'\u001b[0m\u001b[1;33m]\u001b[0m \u001b[1;33m=\u001b[0m \u001b[1;36m14\u001b[0m\u001b[1;33m\u001b[0m\u001b[0m\n\u001b[0;32m     15\u001b[0m         \u001b[0mdf\u001b[0m\u001b[1;33m[\u001b[0m\u001b[1;33m(\u001b[0m\u001b[0mdf\u001b[0m\u001b[1;33m.\u001b[0m\u001b[0mMonth\u001b[0m \u001b[1;33m==\u001b[0m \u001b[1;36m1\u001b[0m\u001b[1;33m)\u001b[0m\u001b[1;33m,\u001b[0m \u001b[1;34m'Month'\u001b[0m\u001b[1;33m]\u001b[0m \u001b[1;33m=\u001b[0m \u001b[1;36m13\u001b[0m\u001b[1;33m\u001b[0m\u001b[0m\n",
      "\u001b[1;32mC:\\tools\\Anaconda3\\envs\\python27studiov1\\lib\\site-packages\\pandas\\core\\frame.pyc\u001b[0m in \u001b[0;36m__setitem__\u001b[1;34m(self, key, value)\u001b[0m\n\u001b[0;32m   2427\u001b[0m         \u001b[1;32melse\u001b[0m\u001b[1;33m:\u001b[0m\u001b[1;33m\u001b[0m\u001b[0m\n\u001b[0;32m   2428\u001b[0m             \u001b[1;31m# set column\u001b[0m\u001b[1;33m\u001b[0m\u001b[1;33m\u001b[0m\u001b[0m\n\u001b[1;32m-> 2429\u001b[1;33m             \u001b[0mself\u001b[0m\u001b[1;33m.\u001b[0m\u001b[0m_set_item\u001b[0m\u001b[1;33m(\u001b[0m\u001b[0mkey\u001b[0m\u001b[1;33m,\u001b[0m \u001b[0mvalue\u001b[0m\u001b[1;33m)\u001b[0m\u001b[1;33m\u001b[0m\u001b[0m\n\u001b[0m\u001b[0;32m   2430\u001b[0m \u001b[1;33m\u001b[0m\u001b[0m\n\u001b[0;32m   2431\u001b[0m     \u001b[1;32mdef\u001b[0m \u001b[0m_setitem_slice\u001b[0m\u001b[1;33m(\u001b[0m\u001b[0mself\u001b[0m\u001b[1;33m,\u001b[0m \u001b[0mkey\u001b[0m\u001b[1;33m,\u001b[0m \u001b[0mvalue\u001b[0m\u001b[1;33m)\u001b[0m\u001b[1;33m:\u001b[0m\u001b[1;33m\u001b[0m\u001b[0m\n",
      "\u001b[1;32mC:\\tools\\Anaconda3\\envs\\python27studiov1\\lib\\site-packages\\pandas\\core\\frame.pyc\u001b[0m in \u001b[0;36m_set_item\u001b[1;34m(self, key, value)\u001b[0m\n\u001b[0;32m   2493\u001b[0m \u001b[1;33m\u001b[0m\u001b[0m\n\u001b[0;32m   2494\u001b[0m         \u001b[0mself\u001b[0m\u001b[1;33m.\u001b[0m\u001b[0m_ensure_valid_index\u001b[0m\u001b[1;33m(\u001b[0m\u001b[0mvalue\u001b[0m\u001b[1;33m)\u001b[0m\u001b[1;33m\u001b[0m\u001b[0m\n\u001b[1;32m-> 2495\u001b[1;33m         \u001b[0mvalue\u001b[0m \u001b[1;33m=\u001b[0m \u001b[0mself\u001b[0m\u001b[1;33m.\u001b[0m\u001b[0m_sanitize_column\u001b[0m\u001b[1;33m(\u001b[0m\u001b[0mkey\u001b[0m\u001b[1;33m,\u001b[0m \u001b[0mvalue\u001b[0m\u001b[1;33m)\u001b[0m\u001b[1;33m\u001b[0m\u001b[0m\n\u001b[0m\u001b[0;32m   2496\u001b[0m         \u001b[0mNDFrame\u001b[0m\u001b[1;33m.\u001b[0m\u001b[0m_set_item\u001b[0m\u001b[1;33m(\u001b[0m\u001b[0mself\u001b[0m\u001b[1;33m,\u001b[0m \u001b[0mkey\u001b[0m\u001b[1;33m,\u001b[0m \u001b[0mvalue\u001b[0m\u001b[1;33m)\u001b[0m\u001b[1;33m\u001b[0m\u001b[0m\n\u001b[0;32m   2497\u001b[0m \u001b[1;33m\u001b[0m\u001b[0m\n",
      "\u001b[1;32mC:\\tools\\Anaconda3\\envs\\python27studiov1\\lib\\site-packages\\pandas\\core\\frame.pyc\u001b[0m in \u001b[0;36m_sanitize_column\u001b[1;34m(self, key, value, broadcast)\u001b[0m\n\u001b[0;32m   2692\u001b[0m \u001b[1;33m\u001b[0m\u001b[0m\n\u001b[0;32m   2693\u001b[0m         \u001b[1;31m# broadcast across multiple columns if necessary\u001b[0m\u001b[1;33m\u001b[0m\u001b[1;33m\u001b[0m\u001b[0m\n\u001b[1;32m-> 2694\u001b[1;33m         \u001b[1;32mif\u001b[0m \u001b[0mbroadcast\u001b[0m \u001b[1;32mand\u001b[0m \u001b[0mkey\u001b[0m \u001b[1;32min\u001b[0m \u001b[0mself\u001b[0m\u001b[1;33m.\u001b[0m\u001b[0mcolumns\u001b[0m \u001b[1;32mand\u001b[0m \u001b[0mvalue\u001b[0m\u001b[1;33m.\u001b[0m\u001b[0mndim\u001b[0m \u001b[1;33m==\u001b[0m \u001b[1;36m1\u001b[0m\u001b[1;33m:\u001b[0m\u001b[1;33m\u001b[0m\u001b[0m\n\u001b[0m\u001b[0;32m   2695\u001b[0m             if (not self.columns.is_unique or\n\u001b[0;32m   2696\u001b[0m                     isinstance(self.columns, MultiIndex)):\n",
      "\u001b[1;32mC:\\tools\\Anaconda3\\envs\\python27studiov1\\lib\\site-packages\\pandas\\core\\indexes\\base.pyc\u001b[0m in \u001b[0;36m__contains__\u001b[1;34m(self, key)\u001b[0m\n\u001b[0;32m   1588\u001b[0m     \u001b[1;33m@\u001b[0m\u001b[0mAppender\u001b[0m\u001b[1;33m(\u001b[0m\u001b[0m_index_shared_docs\u001b[0m\u001b[1;33m[\u001b[0m\u001b[1;34m'__contains__'\u001b[0m\u001b[1;33m]\u001b[0m \u001b[1;33m%\u001b[0m \u001b[0m_index_doc_kwargs\u001b[0m\u001b[1;33m)\u001b[0m\u001b[1;33m\u001b[0m\u001b[0m\n\u001b[0;32m   1589\u001b[0m     \u001b[1;32mdef\u001b[0m \u001b[0m__contains__\u001b[0m\u001b[1;33m(\u001b[0m\u001b[0mself\u001b[0m\u001b[1;33m,\u001b[0m \u001b[0mkey\u001b[0m\u001b[1;33m)\u001b[0m\u001b[1;33m:\u001b[0m\u001b[1;33m\u001b[0m\u001b[0m\n\u001b[1;32m-> 1590\u001b[1;33m         \u001b[0mhash\u001b[0m\u001b[1;33m(\u001b[0m\u001b[0mkey\u001b[0m\u001b[1;33m)\u001b[0m\u001b[1;33m\u001b[0m\u001b[0m\n\u001b[0m\u001b[0;32m   1591\u001b[0m         \u001b[1;32mtry\u001b[0m\u001b[1;33m:\u001b[0m\u001b[1;33m\u001b[0m\u001b[0m\n\u001b[0;32m   1592\u001b[0m             \u001b[1;32mreturn\u001b[0m \u001b[0mkey\u001b[0m \u001b[1;32min\u001b[0m \u001b[0mself\u001b[0m\u001b[1;33m.\u001b[0m\u001b[0m_engine\u001b[0m\u001b[1;33m\u001b[0m\u001b[0m\n",
      "\u001b[1;32mC:\\tools\\Anaconda3\\envs\\python27studiov1\\lib\\site-packages\\pandas\\core\\generic.pyc\u001b[0m in \u001b[0;36m__hash__\u001b[1;34m(self)\u001b[0m\n\u001b[0;32m    875\u001b[0m     \u001b[1;32mdef\u001b[0m \u001b[0m__hash__\u001b[0m\u001b[1;33m(\u001b[0m\u001b[0mself\u001b[0m\u001b[1;33m)\u001b[0m\u001b[1;33m:\u001b[0m\u001b[1;33m\u001b[0m\u001b[0m\n\u001b[0;32m    876\u001b[0m         raise TypeError('{0!r} objects are mutable, thus they cannot be'\n\u001b[1;32m--> 877\u001b[1;33m                         ' hashed'.format(self.__class__.__name__))\n\u001b[0m\u001b[0;32m    878\u001b[0m \u001b[1;33m\u001b[0m\u001b[0m\n\u001b[0;32m    879\u001b[0m     \u001b[1;32mdef\u001b[0m \u001b[0m__iter__\u001b[0m\u001b[1;33m(\u001b[0m\u001b[0mself\u001b[0m\u001b[1;33m)\u001b[0m\u001b[1;33m:\u001b[0m\u001b[1;33m\u001b[0m\u001b[0m\n",
      "\u001b[1;31mTypeError\u001b[0m: 'Series' objects are mutable, thus they cannot be hashed"
     ]
    }
   ],
   "source": [
    "for i in range(1, period + 1):\n",
    "    #create column name and set window value (either 2, 1, or 0 when period = 3)\n",
    "    column = 'W' + str(i)\n",
    "    window = period - i\n",
    "\n",
    "    # extract baseline month values\n",
    "    df['Month'] = df['Depart_Date'].dt.month\n",
    "    df['Year'] = df['Depart_Date'].dt.year\n",
    "\n",
    "    # subset with loc to fix problematic time periods with year overlaps\n",
    "    # if window is 2 and month is Jan or Feb, fix date accordingly\n",
    "    if (window == 2):\n",
    "        df.loc[(df.Month == 1) | (df.Month == 2), 'Year'] = df.Year - 1\n",
    "        df.loc[(df.Month == 2), 'Month'] = 14\n",
    "        df.loc[(df.Month == 1), 'Month'] = 13\n",
    "    # if window is 1 and month is Jan, fix date accordingly\n",
    "    elif (window == 1):\n",
    "        df.loc[(df.Month == 1), 'Year'] = df.Year - 1\n",
    "        df.loc[(df.Month == 1), 'Month'] = 13\n",
    "    # else, use original month\n",
    "    else:\n",
    "        df['Month'] = df['Depart_Date'].dt.month\n",
    "\n",
    "    # Decrement them month value based on the window value\n",
    "    df['Month'] = df.Month - window\n",
    "\n",
    "    # clean up date integer values by adding appropriate 0's and converting to strings\n",
    "    df.loc[df.Month < 10, 'Month'] = '0' + df['Month'].astype(str) # add 0's to single digit months\n",
    "    df.loc[df.Month >= 10, 'Month'] = df['Month'].astype(str) # do not add 0's to double digit months\n",
    "    df['Year'] = df['Year'].astype(str) \n",
    "\n",
    "    # create the value for each window as a string\n",
    "    df[column] = df['Year'] + '-' + df['Month'] + '-01'\n",
    "    # convert each window back to original datetime64 format\n",
    "    df[column] = df[column].map(lambda x: np.datetime64(x)) \n",
    "\n",
    "# drop the month and year columns\n",
    "windowed = df.drop(['Month', 'Year'], axis = 1)"
   ]
  },
  {
   "cell_type": "code",
   "execution_count": 103,
   "metadata": {},
   "outputs": [
    {
     "data": {
      "text/html": [
       "<div>\n",
       "<style>\n",
       "    .dataframe thead tr:only-child th {\n",
       "        text-align: right;\n",
       "    }\n",
       "\n",
       "    .dataframe thead th {\n",
       "        text-align: left;\n",
       "    }\n",
       "\n",
       "    .dataframe tbody tr th {\n",
       "        vertical-align: top;\n",
       "    }\n",
       "</style>\n",
       "<table border=\"1\" class=\"dataframe\">\n",
       "  <thead>\n",
       "    <tr style=\"text-align: right;\">\n",
       "      <th></th>\n",
       "      <th>Serial_Number</th>\n",
       "      <th>Depart_Date</th>\n",
       "      <th>Flying_Hours</th>\n",
       "      <th>W1</th>\n",
       "      <th>W2</th>\n",
       "      <th>W3</th>\n",
       "    </tr>\n",
       "  </thead>\n",
       "  <tbody>\n",
       "    <tr>\n",
       "      <th>1164</th>\n",
       "      <td>5700001419</td>\n",
       "      <td>2014-04-01</td>\n",
       "      <td>0.8</td>\n",
       "      <td>2014-02-01</td>\n",
       "      <td>2014-03-01</td>\n",
       "      <td>2014-04-01</td>\n",
       "    </tr>\n",
       "    <tr>\n",
       "      <th>1165</th>\n",
       "      <td>5700001419</td>\n",
       "      <td>2014-04-24</td>\n",
       "      <td>3.3</td>\n",
       "      <td>2014-02-01</td>\n",
       "      <td>2014-03-01</td>\n",
       "      <td>2014-04-01</td>\n",
       "    </tr>\n",
       "    <tr>\n",
       "      <th>1166</th>\n",
       "      <td>5700001419</td>\n",
       "      <td>2014-05-08</td>\n",
       "      <td>2.1</td>\n",
       "      <td>2014-03-01</td>\n",
       "      <td>2014-04-01</td>\n",
       "      <td>2014-05-01</td>\n",
       "    </tr>\n",
       "    <tr>\n",
       "      <th>1167</th>\n",
       "      <td>5700001419</td>\n",
       "      <td>2014-05-09</td>\n",
       "      <td>1.2</td>\n",
       "      <td>2014-03-01</td>\n",
       "      <td>2014-04-01</td>\n",
       "      <td>2014-05-01</td>\n",
       "    </tr>\n",
       "    <tr>\n",
       "      <th>1168</th>\n",
       "      <td>5700001419</td>\n",
       "      <td>2014-05-30</td>\n",
       "      <td>0.9</td>\n",
       "      <td>2014-03-01</td>\n",
       "      <td>2014-04-01</td>\n",
       "      <td>2014-05-01</td>\n",
       "    </tr>\n",
       "  </tbody>\n",
       "</table>\n",
       "</div>"
      ],
      "text/plain": [
       "     Serial_Number Depart_Date  Flying_Hours         W1         W2         W3\n",
       "1164    5700001419  2014-04-01           0.8 2014-02-01 2014-03-01 2014-04-01\n",
       "1165    5700001419  2014-04-24           3.3 2014-02-01 2014-03-01 2014-04-01\n",
       "1166    5700001419  2014-05-08           2.1 2014-03-01 2014-04-01 2014-05-01\n",
       "1167    5700001419  2014-05-09           1.2 2014-03-01 2014-04-01 2014-05-01\n",
       "1168    5700001419  2014-05-30           0.9 2014-03-01 2014-04-01 2014-05-01"
      ]
     },
     "execution_count": 103,
     "metadata": {},
     "output_type": "execute_result"
    }
   ],
   "source": [
    "windowed.head()"
   ]
  },
  {
   "cell_type": "code",
   "execution_count": 119,
   "metadata": {
    "collapsed": true
   },
   "outputs": [],
   "source": [
    "df = windowed\n",
    "\n",
    "# create a list of column values thus far\n",
    "columns = list(df.columns.values)\n",
    "\n",
    "# calculate the point at which the melted dataframe with pivot\n",
    "melt_axis = len(columns) - period\n",
    "\n",
    "# create a melted dataframe to used for group by calculation\n",
    "melted = pd.melt(df.reset_index(), \n",
    "                        id_vars= columns[0:melt_axis],\n",
    "                        value_vars = columns[melt_axis:8],\n",
    "                        var_name = 'Window',\n",
    "                        value_name = 'Window_Val'\n",
    "                  )\n",
    "\n",
    "# group by window value and calculate the mean\n",
    "grouped = melted.groupby(['Window_Val'], as_index=False).mean()\n",
    "\n",
    "# rename columns\n",
    "grouped.rename(columns = {'Window_Val': 'Three_Month_Start_Date', 'Flying_Hours': 'Average_Flying_Hours'}, inplace = True)"
   ]
  },
  {
   "cell_type": "code",
   "execution_count": 129,
   "metadata": {},
   "outputs": [
    {
     "data": {
      "text/html": [
       "<div>\n",
       "<style>\n",
       "    .dataframe thead tr:only-child th {\n",
       "        text-align: right;\n",
       "    }\n",
       "\n",
       "    .dataframe thead th {\n",
       "        text-align: left;\n",
       "    }\n",
       "\n",
       "    .dataframe tbody tr th {\n",
       "        vertical-align: top;\n",
       "    }\n",
       "</style>\n",
       "<table border=\"1\" class=\"dataframe\">\n",
       "  <thead>\n",
       "    <tr style=\"text-align: right;\">\n",
       "      <th></th>\n",
       "      <th>Three_Month_Start_Date</th>\n",
       "      <th>Average_Flying_Hours</th>\n",
       "    </tr>\n",
       "  </thead>\n",
       "  <tbody>\n",
       "    <tr>\n",
       "      <th>2</th>\n",
       "      <td>2014-01-01</td>\n",
       "      <td>4.409950</td>\n",
       "    </tr>\n",
       "    <tr>\n",
       "      <th>3</th>\n",
       "      <td>2014-02-01</td>\n",
       "      <td>4.448175</td>\n",
       "    </tr>\n",
       "    <tr>\n",
       "      <th>4</th>\n",
       "      <td>2014-03-01</td>\n",
       "      <td>4.427750</td>\n",
       "    </tr>\n",
       "    <tr>\n",
       "      <th>5</th>\n",
       "      <td>2014-04-01</td>\n",
       "      <td>4.388169</td>\n",
       "    </tr>\n",
       "    <tr>\n",
       "      <th>6</th>\n",
       "      <td>2014-05-01</td>\n",
       "      <td>4.381353</td>\n",
       "    </tr>\n",
       "  </tbody>\n",
       "</table>\n",
       "</div>"
      ],
      "text/plain": [
       "  Three_Month_Start_Date  Average_Flying_Hours\n",
       "2             2014-01-01              4.409950\n",
       "3             2014-02-01              4.448175\n",
       "4             2014-03-01              4.427750\n",
       "5             2014-04-01              4.388169\n",
       "6             2014-05-01              4.381353"
      ]
     },
     "execution_count": 129,
     "metadata": {},
     "output_type": "execute_result"
    }
   ],
   "source": [
    "# melted.index.tolist()\n",
    "# type(melted)\n",
    "# grouped.dtypes\n",
    "grouped = grouped[grouped['Three_Month_Start_Date'].dt.year >= last_date]\n",
    "grouped.head()"
   ]
  },
  {
   "cell_type": "markdown",
   "metadata": {},
   "source": [
    "## Production Code"
   ]
  },
  {
   "cell_type": "code",
   "execution_count": 149,
   "metadata": {
    "collapsed": true
   },
   "outputs": [],
   "source": [
    "def CalcWindows(df, period):  \n",
    "    \"\"\" Calculates window value columns to determine what periods a flight record could be grouped into.\n",
    "    Example: '2016-01-04' would return window values '2015-11-01', '2015-12-01', '2016-01-01'.\n",
    "    Args:\n",
    "        df: dateframe from previous function\n",
    "        period: currently only works where period = 3. Long-term, will try and make dynamic based on this value\n",
    "    Returns:\n",
    "       windowed: dataframe with window values where record is active\n",
    "    \"\"\"\n",
    "    # create useful window columns by iterating for 1 through number of periods specified\n",
    "    for i in range(1, period + 1):\n",
    "        #create column name and set window value (either 2, 1, or 0 when period = 3)\n",
    "        column = 'W' + str(i)\n",
    "        window = period - i\n",
    "\n",
    "        # extract baseline month values\n",
    "        df['Month'] = df['Depart_Date'].dt.month\n",
    "        df['Year'] = df['Depart_Date'].dt.year\n",
    "\n",
    "        # subset with loc to fix problematic time periods with year overlaps\n",
    "        # if window is 2 and month is Jan or Feb, fix date accordingly\n",
    "        if (window == 2):\n",
    "            df.loc[(df.Month == 1) | (df.Month == 2), 'Year'] = df.Year - 1\n",
    "            df.loc[(df.Month == 2), 'Month'] = 14\n",
    "            df.loc[(df.Month == 1), 'Month'] = 13\n",
    "        # if window is 1 and month is Jan, fix date accordingly\n",
    "        elif (window == 1):\n",
    "            df.loc[(df.Month == 1), 'Year'] = df.Year - 1\n",
    "            df.loc[(df.Month == 1), 'Month'] = 13\n",
    "        # else, use original month\n",
    "        else:\n",
    "            df['Month'] = df['Depart_Date'].dt.month\n",
    "\n",
    "        # Decrement them month value based on the window value\n",
    "        df['Month'] = df.Month - window\n",
    "\n",
    "        # clean up date integer values by adding appropriate 0's and converting to strings\n",
    "        df.loc[df.Month < 10, 'Month'] = '0' + df['Month'].astype(str) # add 0's to single digit months\n",
    "        df.loc[df.Month >= 10, 'Month'] = df['Month'].astype(str) # do not add 0's to double digit months\n",
    "        df['Year'] = df['Year'].astype(str) \n",
    "\n",
    "        # create the value for each window as a string\n",
    "        df[column] = df['Year'] + '-' + df['Month'] + '-01'\n",
    "        # convert each window back to original datetime64 format\n",
    "        df[column] = df[column].map(lambda x: np.datetime64(x)) \n",
    "\n",
    "    # drop the month and year columns\n",
    "    windowed = df.drop(['Month', 'Year'], axis = 1)\n",
    "    \n",
    "    # return results\n",
    "    return windowed\n",
    "\n",
    " \n",
    "def CalcRollingAvg(df, period):\n",
    "    \"\"\" Calculates the rolling average by melting the window columns and grouping the result.\n",
    "    Args:\n",
    "        df: dateframe from previous function\n",
    "        period: currently only works where period = 3. Long-term, will try and make dynamic based on this value\n",
    "    Returns:\n",
    "       grouped: dataframe with the moving average of flying_hours\n",
    "    \"\"\"\n",
    "    # create a list of column values thus far\n",
    "    columns = list(df.columns.values)\n",
    "\n",
    "    # calculate the point at which the melted dataframe with pivot\n",
    "    melt_axis = len(columns) - period\n",
    "\n",
    "    # create a melted dataframe to used for group by calculation\n",
    "    melted = pd.melt(df, \n",
    "                            id_vars= columns[0:melt_axis],\n",
    "                            value_vars = columns[melt_axis:8],\n",
    "                            var_name = 'Window',\n",
    "                            value_name = 'Window_Val'\n",
    "                      )\n",
    "\n",
    "    # group by window value and calculate the mean\n",
    "    grouped = melted.groupby(['Window_Val'], as_index=False).mean()\n",
    "    # rename columns\n",
    "    grouped.rename(columns = {'Window_Val': 'Three_Month_Start_Date', 'Flying_Hours': 'Average_Flying_Hours'}, inplace = True)\n",
    "    \n",
    "    # return results\n",
    "    return grouped"
   ]
  },
  {
   "cell_type": "code",
   "execution_count": 150,
   "metadata": {
    "collapsed": true
   },
   "outputs": [],
   "source": [
    "def head(df, period = 3):\n",
    "    \"\"\" Calls the CalcWindows and CalcRollingAvg functions\n",
    "    Args:\n",
    "        df: dateframe from previous function\n",
    "        period: currently only works where period = 3. Long-term, will try and make dynamic based on this value\n",
    "    Returns:\n",
    "       final: final dataframe\n",
    "    \"\"\"    \n",
    "    windows = CalcWindows(df, period)\n",
    "    final = CalcRollingAvg(windows, period)\n",
    "    \n",
    "    return final"
   ]
  },
  {
   "cell_type": "code",
   "execution_count": 151,
   "metadata": {
    "collapsed": true
   },
   "outputs": [],
   "source": [
    "# create the final dataframe\n",
    "final = head(df, period = 3)"
   ]
  }
 ],
 "metadata": {
  "kernelspec": {
   "display_name": "Python 3",
   "language": "python",
   "name": "python3"
  },
  "language_info": {
   "codemirror_mode": {
    "name": "ipython",
    "version": 3
   },
   "file_extension": ".py",
   "mimetype": "text/x-python",
   "name": "python",
   "nbconvert_exporter": "python",
   "pygments_lexer": "ipython3",
   "version": "3.7.3"
  }
 },
 "nbformat": 4,
 "nbformat_minor": 2
}
