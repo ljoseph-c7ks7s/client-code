{
 "cells": [
  {
   "cell_type": "code",
   "execution_count": 7,
   "metadata": {},
   "outputs": [],
   "source": [
    "# import necessary packages\n",
    "import numpy as np\n",
    "import pandas as pd\n",
    "import datetime\n",
    "# import MySQLdb\n",
    "\n",
    "libraries = {'numpy': np, 'pandas': pd, 'datetime': datetime}"
   ]
  },
  {
   "cell_type": "code",
   "execution_count": 140,
   "metadata": {},
   "outputs": [],
   "source": [
    "tm = pd.DataFrame(np.array([['2013-01-01', 108.614], ['2013-02-01', 108.034], ['2013-03-01', 108.769], ['2013-04-01', 110.209]]),\n",
    "                  columns=['Three_Month_Start_Date', 'Average_Flying_Hours'])\n",
    "\n",
    "tm['Three_Month_Start_Date'] = tm['Three_Month_Start_Date'].astype('datetime64')\n",
    "tm['Average_Flying_Hours'] = tm['Average_Flying_Hours'].astype('float')\n",
    "\n",
    "# print(tm.head())\n",
    "# print(tm.dtypes)"
   ]
  },
  {
   "cell_type": "code",
   "execution_count": 141,
   "metadata": {},
   "outputs": [],
   "source": [
    "wq = pd.DataFrame(np.array([[.001, .35, 0.24, 0.52], [.01, 7.29, 5.61, 9.38], [.02, 18.2, 14.56, 22.55], [.03, 31.17, 25.51, 37.77]]),\n",
    "                  columns=['quantile', 'time', 'lcl', 'ucl'])\n",
    "\n",
    "wq['quantile'] = wq['quantile'].astype('float') \n",
    "wq['time'] = wq['time'].astype('float') \n",
    "wq['lcl'] = wq['lcl'].astype('float') \n",
    "wq['ucl'] = wq['ucl'].astype('float') \n",
    "\n",
    "# print(wq.head())\n",
    "# print(wq.dtypes)"
   ]
  },
  {
   "cell_type": "code",
   "execution_count": 142,
   "metadata": {},
   "outputs": [],
   "source": [
    "def domain_check(tm, wq, X, q_cut, libraries):\n",
    "    \"\"\" Calculates window value columns to determine what periods a flight record could be grouped into.\n",
    "    Example: '2016-01-04' would return window values '2015-11-01', '2015-12-01', '2016-01-01'.\n",
    "    Args:\n",
    "        tm: date frame from previous function\n",
    "        wq: currently only works where period = 3. Long-term, will try and make dynamic based on this value\n",
    "        X: quantile for domain check (note: converted to percentage)\n",
    "        libraries: dictionary of libraries; access by name\n",
    "    Returns:\n",
    "       windowed: data frame with window values where record is active\n",
    "    \"\"\"\n",
    "    pd = libraries['pandas']\n",
    "\n",
    "    # initialize output data frame\n",
    "    out = pd.DataFrame(index=[0], columns={'domain_check'})\n",
    "\n",
    "    # compute fleet90_75 NOTE: this may require debug due to weird dict issue\n",
    "    fleet90_75 = tm['Average_Flying_Hours'].quantile(X * .01)\n",
    "\n",
    "    # keep only relevant columns from weibull quantiles\n",
    "    wq = wq[['quantile', 'time']]\n",
    "\n",
    "    # sort by quantile ascending\n",
    "    wq_sort = wq.sort_values(by=['quantile'], axis=0).reset_index(drop=True)\n",
    "    \n",
    "    # cut off low end of quantile values\n",
    "    try:\n",
    "        wq_sort = wq_sort.iloc[q_cut:]\n",
    "    \n",
    "        # create an incremental time column & fillna's with time for missing (first) value\n",
    "        wq_sort['incremental_time'] = wq_sort['time'] - wq_sort['time'].shift(periods=1)\n",
    "        wq_sort['incremental_time'] = wq_sort['incremental_time'].fillna(wq_sort['time'])\n",
    "\n",
    "        # compute min_inc_time\n",
    "        min_inc_time = min(wq_sort['incremental_time'])\n",
    "     \n",
    "    except ValueError:\n",
    "        print(\"Cutoff value out-of-bounds. Resetting to 0 for this test.\")\n",
    "        \n",
    "        wq_sort = wq.sort_values(by=['quantile'], axis=0).reset_index(drop=True)\n",
    "        \n",
    "        # create an incremental time column & fillna's with time for missing (first) value\n",
    "        wq_sort['incremental_time'] = wq_sort['time'] - wq_sort['time'].shift(periods=1)\n",
    "        wq_sort['incremental_time'] = wq_sort['incremental_time'].fillna(wq_sort['time'])\n",
    "\n",
    "        # compute min_inc_time\n",
    "        min_inc_time = min(wq_sort['incremental_time'])\n",
    "        \n",
    "    \n",
    "    # determine if it fails the domain check\n",
    "    if min_inc_time > fleet90_75:\n",
    "        out.iloc[0]['domain_check'] = 'Fail'\n",
    "        print(\"{} percentile of flight hours accrued in 90 days, {}, is more than the minimum time change between 0.01 quantile increments, {}. Domain Check fails.\".format(X, fleet90_75, min_inc_time))\n",
    "\n",
    "    else:\n",
    "        out.iloc[0]['domain_check'] = 'Pass'\n",
    "        print(\"{} percentile of flight hours accrued in 90 days, {}, is less than the minimum time change between 0.01 quantile increments, {}. Domain Check passes.\".format(X, fleet90_75, min_inc_time))\n",
    "\n",
    "    return wq_sort, out"
   ]
  },
  {
   "cell_type": "code",
   "execution_count": 143,
   "metadata": {},
   "outputs": [
    {
     "name": "stdout",
     "output_type": "stream",
     "text": [
      "Cutoff value out-of-bounds. Resetting to 0 for this test.\n",
      "5 percentile of flight hours accrued in 90 days, 108.121, is less than the minimum time change between 0.01 quantile increments, 0.35. Domain Check passes.\n",
      "   quantile   time  incremental_time\n",
      "0     0.001   0.35              0.35\n",
      "1     0.010   7.29              6.94\n",
      "2     0.020  18.20             10.91\n",
      "3     0.030  31.17             12.97\n"
     ]
    }
   ],
   "source": [
    "X = 5\n",
    "quant_cut = 10\n",
    "wq, df_out = domain_check(tm, wq, X, quant_cut, libraries)\n",
    "print(wq.head(10))\n",
    "# print(df_out.head())"
   ]
  },
  {
   "cell_type": "code",
   "execution_count": 95,
   "metadata": {},
   "outputs": [
    {
     "ename": "NameError",
     "evalue": "name 'MySQLdb' is not defined",
     "output_type": "error",
     "traceback": [
      "\u001b[1;31m\u001b[0m",
      "\u001b[1;31mNameError\u001b[0mTraceback (most recent call last)",
      "\u001b[1;32m<ipython-input-95-9d18cd327224>\u001b[0m in \u001b[0;36m<module>\u001b[1;34m()\u001b[0m\n\u001b[0;32m      7\u001b[0m \u001b[1;33m\u001b[0m\u001b[0m\n\u001b[0;32m      8\u001b[0m \u001b[1;31m# create the database connection\u001b[0m\u001b[1;33m\u001b[0m\u001b[1;33m\u001b[0m\u001b[0m\n\u001b[1;32m----> 9\u001b[1;33m \u001b[0mconn\u001b[0m \u001b[1;33m=\u001b[0m \u001b[0mMySQLdb\u001b[0m\u001b[1;33m.\u001b[0m\u001b[0mconnect\u001b[0m\u001b[1;33m(\u001b[0m\u001b[0mhost\u001b[0m \u001b[1;33m=\u001b[0m \u001b[0mdsn_hostname\u001b[0m\u001b[1;33m,\u001b[0m \u001b[0mport\u001b[0m \u001b[1;33m=\u001b[0m \u001b[0mdsn_port\u001b[0m\u001b[1;33m,\u001b[0m \u001b[0muser\u001b[0m \u001b[1;33m=\u001b[0m \u001b[0mdsn_uid\u001b[0m\u001b[1;33m,\u001b[0m \u001b[0mpasswd\u001b[0m \u001b[1;33m=\u001b[0m \u001b[0mdsn_pwd\u001b[0m\u001b[1;33m,\u001b[0m \u001b[0mdb\u001b[0m \u001b[1;33m=\u001b[0m \u001b[0mdsn_database\u001b[0m\u001b[1;33m)\u001b[0m\u001b[1;33m\u001b[0m\u001b[0m\n\u001b[0m",
      "\u001b[1;31mNameError\u001b[0m: name 'MySQLdb' is not defined"
     ]
    }
   ],
   "source": [
    "# database credentials\n",
    "dsn_database = \"ercm_kc135\"\n",
    "dsn_hostname = \"localhost\"\n",
    "dsn_port = 3306\n",
    "dsn_uid = \"root\"\n",
    "dsn_pwd = \"root\"\n",
    "\n",
    "# create the database connection\n",
    "conn = MySQLdb.connect(host = dsn_hostname, port = dsn_port, user = dsn_uid, passwd = dsn_pwd, db = dsn_database)"
   ]
  },
  {
   "cell_type": "code",
   "execution_count": null,
   "metadata": {},
   "outputs": [],
   "source": [
    "# load data from three month flight history collector\n",
    "query1 = \"SELECT * FROM %s WHERE type='tow_ci'\" # edit this sql\n",
    "tm = pd.read_sql(sql = query2, con = conn)\n",
    "\n",
    "# load data from single weibull quantities\n",
    "query2 = \"SELECT * FROM %s WHERE type='tow_ci'\" # edit this sql\n",
    "wq = pd.read_sql(sql = query2, con = conn)"
   ]
  },
  {
   "cell_type": "code",
   "execution_count": null,
   "metadata": {
    "collapsed": true
   },
   "outputs": [],
   "source": [
    "def fn(conn, libraries, params, predecessors):\n",
    "    pd = libraries[\"pandas\"]\n",
    "\n",
    "    # load data from three month flight history collector\n",
    "    query1 = \"SELECT * FROM %s WHERE type='tow_ci'\" % predecessors[0]\n",
    "    three_month_flight_history = pd.read_sql(sql = query2, con = conn)\n",
    "    \n",
    "    # load data from single weibull quantities\n",
    "    query2 = \"SELECT * FROM %s WHERE type='tow_ci'\" % predecessors[1]\n",
    "    single_weibull_quantiles = pd.read_sql(sql = query2, con = conn)\n",
    "    \n",
    "\n",
    "    # grab parameter values\n",
    "    X = params['X'] #  default is 75\n",
    "    df_out = domain_check(three_month_flight_history, single_weibull_quantiles, X, libraries):\n",
    "\n",
    "    return df_out"
   ]
  },
  {
   "cell_type": "code",
   "execution_count": 58,
   "metadata": {},
   "outputs": [
    {
     "name": "stdout",
     "output_type": "stream",
     "text": [
      "109.129\n"
     ]
    }
   ],
   "source": [
    "# compute fleet90_75\n",
    "X = 75\n",
    "fleet90_75 = tm['Average_Flying_Hours'].quantile(.75)\n",
    "print(fleet90_75)"
   ]
  },
  {
   "cell_type": "code",
   "execution_count": 111,
   "metadata": {},
   "outputs": [
    {
     "name": "stdout",
     "output_type": "stream",
     "text": [
      "[0.35, 7.29, 18.2, 31.17]\n"
     ]
    }
   ],
   "source": [
    "# keep only relevant columns from weibull quantiles\n",
    "wq = wq[['quantile', 'time', 'lcl', 'ucl']]\n",
    "\n",
    "# sort by quantile ascending and reset the index for later iteration\n",
    "wq_sort = wq.sort_values(by = ['quantile'], axis=0).reset_index()\n",
    "\n",
    "time_list = list(wq_sort['time'])\n",
    "print(time_list)"
   ]
  }
 ],
 "metadata": {
  "kernelspec": {
   "display_name": "Python 2",
   "language": "python",
   "name": "python2"
  },
  "language_info": {
   "codemirror_mode": {
    "name": "ipython",
    "version": 2
   },
   "file_extension": ".py",
   "mimetype": "text/x-python",
   "name": "python",
   "nbconvert_exporter": "python",
   "pygments_lexer": "ipython2",
   "version": "2.7.12"
  }
 },
 "nbformat": 4,
 "nbformat_minor": 2
}
